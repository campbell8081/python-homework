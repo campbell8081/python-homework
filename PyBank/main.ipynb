{
 "metadata": {
  "language_info": {
   "codemirror_mode": {
    "name": "ipython",
    "version": 3
   },
   "file_extension": ".py",
   "mimetype": "text/x-python",
   "name": "python",
   "nbconvert_exporter": "python",
   "pygments_lexer": "ipython3",
   "version": "3.8.3-final"
  },
  "orig_nbformat": 2,
  "kernelspec": {
   "name": "Python 3.8.3 64-bit ('anaconda3': virtualenv)",
   "display_name": "Python 3.8.3 64-bit ('anaconda3': virtualenv)",
   "metadata": {
    "interpreter": {
     "hash": "4971b783134bde4a5f7f7c01a96a05fc4c9d173f191f9e06fbd9272e16cd1a60"
    }
   }
  }
 },
 "nbformat": 4,
 "nbformat_minor": 2,
 "cells": [
  {
   "cell_type": "code",
   "execution_count": 18,
   "metadata": {
    "tags": []
   },
   "outputs": [
    {
     "output_type": "stream",
     "name": "stdout",
     "text": "Financial Analysis\n------------------------------------\nTotal Months: 86\nTotal: $76765156\nAverage Change: $-2315.12\nGreatest Increase in Profits: $1926159\nGreatest Decrease in Profits: $-2196167\n"
    }
   ],
   "source": [
    "from pathlib import Path\n",
    "import csv\n",
    "\n",
    "filepath = Path('budget_data.csv')\n",
    "\n",
    "\n",
    "with open(filepath, \"r\") as csvfile:\n",
    "    csvreader = csv.reader(csvfile)\n",
    "\n",
    "    months = []\n",
    "    pl_changes = []\n",
    "    monthly_profit_change = []\n",
    "\n",
    "    header = next(csvreader)\n",
    "    total = 0\n",
    "    total_months = 0\n",
    "    previous_month_pl = 0\n",
    "    current_month_pl = 0\n",
    "    profit_loss_change = 0\n",
    "    \n",
    "\n",
    "    for row in csvreader:\n",
    "        current_month_pl = int(row[1])\n",
    "        total += current_month_pl\n",
    "        total_months += 1\n",
    "        total += int(row[1])\n",
    "\n",
    "        if (total_months == 1):\n",
    "            previous_month_pl = current_month_pl\n",
    "            continue\n",
    "        else:\n",
    "            profit_loss_change = current_month_pl - previous_month_pl\n",
    "            months.append(row[0])\n",
    "            pl_changes.append(profit_loss_change)\n",
    "            previous_month_pl = current_month_pl\n",
    "\n",
    "    sum_profit_loss = sum(pl_changes)\n",
    "    avg_profit_loss = round(sum_profit_loss/(total_months - 1), 2)\n",
    "    for i in range(len(pl_changes)-1):\n",
    "        monthly_profit_change.append(pl_changes[i+1]-pl_changes[i])\n",
    "\n",
    "    max_increase_pl = max(pl_changes)\n",
    "    max_decrease_pl = min(pl_changes)\n",
    "\n",
    "    \n",
    "\n",
    "    print(\"Financial Analysis\")\n",
    "    print(\"------------------------------------\")\n",
    "    print(f\"Total Months: {total_months}\")\n",
    "    print(f\"Total: ${total}\")\n",
    "    print(f\"Average Change: ${avg_profit_loss}\")\n",
    "    print(f\"Greatest Increase in Profits: ${max_increase_pl}\")\n",
    "    print(f\"Greatest Decrease in Profits: ${max_decrease_pl}\")\n",
    "    \n",
    "    "
   ]
  },
  {
   "cell_type": "code",
   "execution_count": null,
   "metadata": {},
   "outputs": [],
   "source": []
  }
 ]
}