{
 "metadata": {
  "language_info": {
   "codemirror_mode": {
    "name": "ipython",
    "version": 3
   },
   "file_extension": ".py",
   "mimetype": "text/x-python",
   "name": "python",
   "nbconvert_exporter": "python",
   "pygments_lexer": "ipython3",
   "version": "3.8.3-final"
  },
  "orig_nbformat": 2,
  "kernelspec": {
   "name": "Python 3.8.3 64-bit ('anaconda3': virtualenv)",
   "display_name": "Python 3.8.3 64-bit ('anaconda3': virtualenv)",
   "metadata": {
    "interpreter": {
     "hash": "4971b783134bde4a5f7f7c01a96a05fc4c9d173f191f9e06fbd9272e16cd1a60"
    }
   }
  }
 },
 "nbformat": 4,
 "nbformat_minor": 2,
 "cells": [
  {
   "cell_type": "code",
   "execution_count": 29,
   "metadata": {
    "tags": []
   },
   "outputs": [
    {
     "output_type": "stream",
     "name": "stdout",
     "text": "Financial Analysis\n------------------------------------------------\nTotal Months: 86\nTotal: $76765156\nAverage Change: $-2315.12\nGreatest Increase in Profits: Feb-2012 $1926159\nGreatest Decrease in Profits: Sep-2013 $-2196167\n"
    }
   ],
   "source": [
    "from pathlib import Path\n",
    "import csv\n",
    "\n",
    "filepath = Path('budget_data.csv')\n",
    "\n",
    "\n",
    "with open(filepath, \"r\") as csvfile:\n",
    "    csvreader = csv.reader(csvfile)\n",
    "\n",
    "    months = []\n",
    "    total_profit = []\n",
    "    pl_changes = []\n",
    "    monthly_pl_change = []\n",
    "    \n",
    "\n",
    "    header = next(csvreader)\n",
    "    total = 0\n",
    "    total_months = 0\n",
    "    previous_month_pl = 0\n",
    "    current_month_pl = 0\n",
    "    profit_loss_change = 0\n",
    "    \n",
    "\n",
    "    for row in csvreader:\n",
    "        current_month_pl = int(row[1])\n",
    "        total += current_month_pl\n",
    "        total_months += 1\n",
    "        total += int(row[1])\n",
    "\n",
    "        if (total_months == 1):\n",
    "            previous_month_pl = current_month_pl\n",
    "            continue\n",
    "        else:\n",
    "            profit_loss_change = current_month_pl - previous_month_pl\n",
    "            months.append(row[0])\n",
    "            total_profit.append(int(row[1]))\n",
    "            pl_changes.append(profit_loss_change)\n",
    "            previous_month_pl = current_month_pl\n",
    "\n",
    "    sum_profit_loss = sum(pl_changes)\n",
    "    avg_profit_loss = round(sum_profit_loss/(total_months - 1), 2)\n",
    "\n",
    "\n",
    "    for i in range(len(pl_changes)-1):\n",
    "        monthly_pl_change.append(total_profit[i+1]-total_profit[i])\n",
    "\n",
    "    max_increase_pl = max(monthly_pl_change)\n",
    "    max_decrease_pl = min(monthly_pl_change)\n",
    "\n",
    "    max_increase_date = monthly_pl_change.index(max(monthly_pl_change)) + 1\n",
    "    max_decrease_date = monthly_pl_change.index(min(monthly_pl_change)) + 1\n",
    "\n",
    "\n",
    "\n",
    "    print(\"Financial Analysis\")\n",
    "    print(\"-----------------------------------------------------\")\n",
    "    print(f\"Total Months: {total_months}\")\n",
    "    print(f\"Total: ${total}\")\n",
    "    print(f\"Average Change: ${avg_profit_loss}\")\n",
    "    print(f\"Greatest Increase in Profits: {months[max_increase_date]} ${max_increase_pl}\")\n",
    "    print(f\"Greatest Decrease in Profits: {months[max_decrease_date]} ${max_decrease_pl}\")   \n"
   ]
  },
  {
   "cell_type": "code",
   "execution_count": null,
   "metadata": {},
   "outputs": [],
   "source": []
  }
 ]
}