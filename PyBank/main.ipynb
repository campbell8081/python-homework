{
 "metadata": {
  "language_info": {
   "codemirror_mode": {
    "name": "ipython",
    "version": 3
   },
   "file_extension": ".py",
   "mimetype": "text/x-python",
   "name": "python",
   "nbconvert_exporter": "python",
   "pygments_lexer": "ipython3",
   "version": "3.8.3-final"
  },
  "orig_nbformat": 2,
  "kernelspec": {
   "name": "Python 3.8.3 64-bit ('base')",
   "display_name": "Python 3.8.3 64-bit ('base')",
   "metadata": {
    "interpreter": {
     "hash": "4971b783134bde4a5f7f7c01a96a05fc4c9d173f191f9e06fbd9272e16cd1a60"
    }
   }
  }
 },
 "nbformat": 4,
 "nbformat_minor": 2,
 "cells": [
  {
   "cell_type": "code",
   "execution_count": 4,
   "metadata": {},
   "outputs": [],
   "source": [
    "# The total number of months included in the dataset.\n",
    "\n",
    "\n",
    "# The net total amount of Profit/Losses over the entire period.\n",
    "\n",
    "\n",
    "# The average of the changes in Profit/Losses over the entire period.\n",
    "\n",
    "\n",
    "# The greatest increase in profits (date and amount) over the entire period.\n",
    "\n",
    "\n",
    "# The greatest decrease in losses (date and amount) over the entire period."
   ]
  },
  {
   "cell_type": "code",
   "execution_count": 23,
   "metadata": {
    "tags": []
   },
   "outputs": [],
   "source": [
    "from pathlib import Path\n",
    "import csv\n",
    "\n",
    "filepath = Path('budget_data.csv')\n",
    "     "
   ]
  },
  {
   "cell_type": "code",
   "execution_count": 71,
   "metadata": {
    "tags": []
   },
   "outputs": [
    {
     "output_type": "stream",
     "name": "stdout",
     "text": "Financial Analysis\n------------------------------------\nTotal Months: 86\nTotal: $76765156\nAverage Change: $-2315.12\n"
    }
   ],
   "source": [
    "with open(filepath, \"r\") as csvfile:\n",
    "    csvreader = csv.reader(csvfile)\n",
    "\n",
    "    months = []\n",
    "    pl_changes = []\n",
    "\n",
    "    header = next(csvreader)\n",
    "    total = 0\n",
    "    total_months = 0\n",
    "    previous_month_pl = 0\n",
    "    current_month_pl = 0\n",
    "    profit_loss_change = 0\n",
    "\n",
    "    for row in csvreader:\n",
    "        current_month_pl = int(row[1])\n",
    "        total += current_month_pl\n",
    "        total_months += 1\n",
    "        total += int(row[1])\n",
    "\n",
    "        if (total_months == 1):\n",
    "            previous_month_pl = current_month_pl\n",
    "            continue\n",
    "        else:\n",
    "            profit_loss_change = current_month_pl - previous_month_pl\n",
    "            months.append(row[0])\n",
    "            pl_changes.append(profit_loss_change)\n",
    "            previous_month_pl = current_month_pl\n",
    "\n",
    "    sum_profit_loss = sum(pl_changes)\n",
    "    avg_profit_loss = round(sum_profit_loss/(total_months - 1), 2)\n",
    "\n",
    "\n",
    "\n",
    "    print(\"Financial Analysis\")\n",
    "    print(\"------------------------------------\")\n",
    "    print(f\"Total Months: {total_months}\")\n",
    "    print(f\"Total: ${total}\")\n",
    "    print(f\"Average Change: ${avg_profit_loss}\")"
   ]
  },
  {
   "cell_type": "code",
   "execution_count": null,
   "metadata": {},
   "outputs": [],
   "source": []
  }
 ]
}